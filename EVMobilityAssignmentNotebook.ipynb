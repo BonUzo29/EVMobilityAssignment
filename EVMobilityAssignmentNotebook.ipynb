{
 "cells": [
  {
   "attachments": {},
   "cell_type": "markdown",
   "id": "29bbf017",
   "metadata": {},
   "source": [
    "FIRST STEP: GENERATION OF INDEX FOR VARIABLES USING ASSUMED WEIGHTHINGS FROM THE WEIGHTED AVERAGES MODEL AND CONDUCTING NORMALIZATION"
   ]
  },
  {
   "cell_type": "code",
   "execution_count": 21,
   "id": "9be80d0b",
   "metadata": {},
   "outputs": [],
   "source": [
    "import pandas as pd"
   ]
  },
  {
   "attachments": {},
   "cell_type": "markdown",
   "id": "49ac87be",
   "metadata": {},
   "source": [
    "We will consider the following variables to determine our prediction and development of the index needed for this task. The following metrics would be used and the resoect weighted average indices.\n",
    "\n",
    "EV Registrations: 0.40\n",
    "Annual Growth Rate : 0.25\n",
    "Charging Infrastructure : 0.10\n",
    "Government Incentives : 0.15\n",
    "Marketplace rivalry : 0.02\n",
    "Public Understanding and Acceptance : 0.08\n",
    "\n"
   ]
  },
  {
   "cell_type": "code",
   "execution_count": 22,
   "id": "7894a8de",
   "metadata": {},
   "outputs": [],
   "source": [
    "weightings = {\n",
    "    'EV Registrations': 0.45,\n",
    "    'Annual Growth Rate': 0.20,\n",
    "    'Charging Infrastructure': 0.10,\n",
    "    'Government Incentives': 0.15,\n",
    "    'Marketplace rivalry': 0.02,\n",
    "    'Public Understanding and Acceptance': 0.08\n",
    "}\n",
    "\n",
    "# df = pd.read_csv(r\"C:\\Users\\hp/Documents\\EV Data.csv\")\n",
    "\n",
    "# Create a pandas DataFrame with the data\n",
    "EV_data = {\n",
    "    'Country': ['China', 'Germany', 'USA', 'France', 'UK', 'Norway', 'Netherlands', 'Japan'],\n",
    "    '2017': [639000, 54490, 200200, 42800, 47260, 74340, 10320, 54100],\n",
    "    '2018': [1256000, 67480, 361300, 53750, 57740, 85190, 27970, 49750],\n",
    "    '2019': [1204000, 108520, 329500, 69470, 72830, 85250, 67520, 38900],\n",
    "    '2020': [1246000, 394550, 322400, 194700, 175300, 108200, 88340, 29350],\n",
    "    '2021': [3334000, 680930, 607600, 316000, 305300, 157300, 98260, 43920]\n",
    "}\n",
    "\n",
    "df = pd.DataFrame(EV_data)"
   ]
  },
  {
   "attachments": {},
   "cell_type": "markdown",
   "id": "111c9c5b",
   "metadata": {},
   "source": [
    "STEP 1b: CONDUCTING NORMALIZATION"
   ]
  },
  {
   "cell_type": "code",
   "execution_count": 23,
   "id": "1a043ecd",
   "metadata": {},
   "outputs": [
    {
     "name": "stdout",
     "output_type": "stream",
     "text": [
      "              2017   2018   2019   2020   2021  EV Registrations Index  Annual Growth Rate Index  Charging Infrastructure Index  Government Incentives Index  Marketplace rivalry Index  Public Understanding and Acceptance Index\n",
      "Country                                                                                                                                                                                                                           \n",
      "China       1.0000 1.0000 1.0000 1.0000 1.0000                  2.2500                    1.0000                         0.5000                       0.7500                     0.1000                                     0.4000\n",
      "Germany     0.0853 0.0537 0.0901 0.3167 0.2042                  0.3375                    0.1500                         0.0750                       0.1125                     0.0150                                     0.0600\n",
      "USA         0.3133 0.2877 0.2737 0.2587 0.1822                  0.5920                    0.2631                         0.1316                       0.1973                     0.0263                                     0.1052\n",
      "France      0.0670 0.0428 0.0577 0.1563 0.0948                  0.1883                    0.0837                         0.0419                       0.0628                     0.0084                                     0.0335\n",
      "UK          0.0740 0.0460 0.0605 0.1407 0.0916                  0.1857                    0.0825                         0.0413                       0.0619                     0.0083                                     0.0330\n",
      "Norway      0.1163 0.0678 0.0708 0.0868 0.0472                  0.1750                    0.0778                         0.0389                       0.0583                     0.0078                                     0.0311\n",
      "Netherlands 0.0162 0.0223 0.0561 0.0709 0.0295                  0.0877                    0.0390                         0.0195                       0.0292                     0.0039                                     0.0156\n",
      "Japan       0.0847 0.0396 0.0323 0.0236 0.0132                  0.0870                    0.0387                         0.0193                       0.0290                     0.0039                                     0.0155\n"
     ]
    }
   ],
   "source": [
    "# This first step within the normalization entails us claculating the maximum value for each variable\n",
    "maximum_values = df.loc[:, '2017': '2021'].max()\n",
    "\n",
    "# Next we normalize values  for each variable i.e. the variables we are using to draft our index\n",
    "df.loc[:, '2017':'2021'] = df.loc[:, '2017':'2021'].div(maximum_values, axis=1)\n",
    "\n",
    "# Proceed to calculating the index value for each variable\n",
    "for variable, weighting in weightings.items():\n",
    "    df[f'{variable} Index'] = df.loc[:, '2017':'2021'].mul(weighting, axis=1).sum(axis=1)\n",
    "\n",
    "# We then set the Country column as an index\n",
    "df.set_index('Country', inplace=True)\n",
    "\n",
    "# Print the dataframe in a compact format\n",
    "print(df.to_string(float_format='{:,.4f}'.format))\n"
   ]
  },
  {
   "attachments": {},
   "cell_type": "markdown",
   "id": "3692ca62",
   "metadata": {},
   "source": [
    "STEP 2: CONDUCTIONG PREDICTION OF EV REGISTRATION FOR NEXT 3 YEARS"
   ]
  },
  {
   "cell_type": "code",
   "execution_count": 24,
   "id": "5b558abb",
   "metadata": {},
   "outputs": [
    {
     "data": {
      "text/html": [
       "<div>\n",
       "<style scoped>\n",
       "    .dataframe tbody tr th:only-of-type {\n",
       "        vertical-align: middle;\n",
       "    }\n",
       "\n",
       "    .dataframe tbody tr th {\n",
       "        vertical-align: top;\n",
       "    }\n",
       "\n",
       "    .dataframe thead th {\n",
       "        text-align: right;\n",
       "    }\n",
       "</style>\n",
       "<table border=\"1\" class=\"dataframe\">\n",
       "  <thead>\n",
       "    <tr style=\"text-align: right;\">\n",
       "      <th></th>\n",
       "      <th>Year</th>\n",
       "      <th>Registrations Index</th>\n",
       "      <th>Annual Growth Rate Index</th>\n",
       "      <th>Charging Infrastructure Index</th>\n",
       "      <th>Government Incentives Index</th>\n",
       "      <th>Market Competition Index</th>\n",
       "      <th>Public Awareness and Acceptance Index</th>\n",
       "    </tr>\n",
       "  </thead>\n",
       "  <tbody>\n",
       "    <tr>\n",
       "      <th>0</th>\n",
       "      <td>2022</td>\n",
       "      <td>2.25000</td>\n",
       "      <td>1.00000</td>\n",
       "      <td>0.50000</td>\n",
       "      <td>0.75000</td>\n",
       "      <td>0.10000</td>\n",
       "      <td>0.40000</td>\n",
       "    </tr>\n",
       "    <tr>\n",
       "      <th>1</th>\n",
       "      <td>2023</td>\n",
       "      <td>0.33751</td>\n",
       "      <td>0.15001</td>\n",
       "      <td>0.07500</td>\n",
       "      <td>0.11250</td>\n",
       "      <td>0.01500</td>\n",
       "      <td>0.06000</td>\n",
       "    </tr>\n",
       "    <tr>\n",
       "      <th>2</th>\n",
       "      <td>2024</td>\n",
       "      <td>0.59203</td>\n",
       "      <td>0.26313</td>\n",
       "      <td>0.13156</td>\n",
       "      <td>0.19734</td>\n",
       "      <td>0.02631</td>\n",
       "      <td>0.10525</td>\n",
       "    </tr>\n",
       "  </tbody>\n",
       "</table>\n",
       "</div>"
      ],
      "text/plain": [
       "   Year  Registrations Index  Annual Growth Rate Index  \\\n",
       "0  2022              2.25000                   1.00000   \n",
       "1  2023              0.33751                   0.15001   \n",
       "2  2024              0.59203                   0.26313   \n",
       "\n",
       "   Charging Infrastructure Index  Government Incentives Index  \\\n",
       "0                        0.50000                      0.75000   \n",
       "1                        0.07500                      0.11250   \n",
       "2                        0.13156                      0.19734   \n",
       "\n",
       "   Market Competition Index  Public Awareness and Acceptance Index  \n",
       "0                   0.10000                                0.40000  \n",
       "1                   0.01500                                0.06000  \n",
       "2                   0.02631                                0.10525  "
      ]
     },
     "execution_count": 24,
     "metadata": {},
     "output_type": "execute_result"
    }
   ],
   "source": [
    "from sklearn.linear_model import LinearRegression\n",
    "\n",
    "# Develop a dictionary with identified index values from Step 1\n",
    "initial_index_data = {\n",
    "    'Year': [2022, 2023, 2024],\n",
    "    'Registrations Index': [2.25000, 0.33751, 0.59203],\n",
    "    'Annual Growth Rate Index': [1.00000, 0.15001, 0.26313],\n",
    "    'Charging Infrastructure Index': [0.50000, 0.07500, 0.13156],\n",
    "    'Government Incentives Index': [0.75000, 0.11250, 0.19734],\n",
    "    'Market Competition Index': [0.10000, 0.01500, 0.02631],\n",
    "    'Public Awareness and Acceptance Index': [0.40000, 0.06000, 0.10525]\n",
    "}\n",
    "\n",
    "#Create a dataframe from the initial_index_data Dictionary\n",
    "\n",
    "df_index = pd.DataFrame(initial_index_data)\n",
    "\n",
    "#Display dataframe\n",
    "\n",
    "df_index.head()\n",
    "\n",
    "\n"
   ]
  },
  {
   "cell_type": "code",
   "execution_count": 25,
   "id": "1a7fbce1",
   "metadata": {},
   "outputs": [
    {
     "name": "stdout",
     "output_type": "stream",
     "text": [
      "   Year  Registrations Prediction\n",
      "0  2022                  0.818238\n",
      "1  2023                  0.485149\n",
      "2  2024                  0.627858\n"
     ]
    }
   ],
   "source": [
    "# Preparation of data from regression model\n",
    "X = df_index.drop(columns=['Year'])\n",
    "y = df_index['Registrations Index']\n",
    "\n",
    "# Create a linear regression model\n",
    "reg_model = LinearRegression()\n",
    "reg_model.fit(X, y)\n",
    "\n",
    "# Predict the registrations for the next three years\n",
    "predict_next_years = [[2022, 1.000, 0.150, 0.075, 0.112, 0.015, 0.060],\n",
    "              [2023, 0.500, 0.263, 0.131, 0.041, 0.026, 0.105],\n",
    "              [2024, 0.750, 0.083, 0.197, 0.062, 0.033, 0.080]]\n",
    "\n",
    "df_predict = pd.DataFrame(predict_next_years, columns=df_index.columns)\n",
    "\n",
    "registrations_predicted = reg_model.predict(df_predict.drop(columns=['Year']))\n",
    "\n",
    "# Add the predicted registrations to the DataFrame\n",
    "df_predict['Registrations Prediction'] = registrations_predicted\n",
    "\n",
    "# Print the predicted registrations\n",
    "print(df_predict[['Year', 'Registrations Prediction']])\n"
   ]
  }
 ],
 "metadata": {
  "kernelspec": {
   "display_name": "Python 3 (ipykernel)",
   "language": "python",
   "name": "python3"
  },
  "language_info": {
   "codemirror_mode": {
    "name": "ipython",
    "version": 3
   },
   "file_extension": ".py",
   "mimetype": "text/x-python",
   "name": "python",
   "nbconvert_exporter": "python",
   "pygments_lexer": "ipython3",
   "version": "3.9.12"
  }
 },
 "nbformat": 4,
 "nbformat_minor": 5
}
