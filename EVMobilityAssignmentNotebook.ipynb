{
 "cells": [
  {
   "attachments": {},
   "cell_type": "markdown",
   "id": "29bbf017",
   "metadata": {},
   "source": [
    "FIRST STEP: GENERATION OF INDEX FOR VARIABLES USING ASSUMED WEIGHTHINGS FROM THE WEIGHTED AVERAGES MODEL AND CONDUCTING NORMALIZATION"
   ]
  },
  {
   "cell_type": "code",
   "execution_count": 20,
   "id": "9be80d0b",
   "metadata": {},
   "outputs": [],
   "source": [
    "import pandas as pd"
   ]
  },
  {
   "attachments": {},
   "cell_type": "markdown",
   "id": "49ac87be",
   "metadata": {},
   "source": [
    "We will consider the following variables to determine our prediction and development of the index needed for this task. The following metrics would be used and the resoect weighted average indices.\n",
    "\n",
    "EV Registrations: 0.40\n",
    "Annual Growth Rate : 0.25\n",
    "Charging Infrastructure : 0.10\n",
    "Government Incentives : 0.15\n",
    "Marketplace rivalry : 0.02\n",
    "Public Understanding and Acceptance : 0.08\n",
    "\n"
   ]
  },
  {
   "cell_type": "code",
   "execution_count": 21,
   "id": "7894a8de",
   "metadata": {},
   "outputs": [],
   "source": [
    "weightings = {\n",
    "    'EV Registrations': 0.45,\n",
    "    'Annual Growth Rate': 0.20,\n",
    "    'Charging Infrastructure': 0.10,\n",
    "    'Government Incentives': 0.15,\n",
    "    'Marketplace rivalry': 0.02,\n",
    "    'Public Understanding and Acceptance': 0.08\n",
    "}\n",
    "\n",
    "# df = pd.read_csv(r\"C:\\Users\\hp/Documents\\EV Data.csv\")\n",
    "\n",
    "# Create a pandas DataFrame with the data\n",
    "EV_data = {\n",
    "    'Country': ['China', 'Germany', 'USA', 'France', 'UK', 'Norway', 'Netherlands', 'Japan'],\n",
    "    '2017': [639000, 54490, 200200, 42800, 47260, 74340, 10320, 54100],\n",
    "    '2018': [1256000, 67480, 361300, 53750, 57740, 85190, 27970, 49750],\n",
    "    '2019': [1204000, 108520, 329500, 69470, 72830, 85250, 67520, 38900],\n",
    "    '2020': [1246000, 394550, 322400, 194700, 175300, 108200, 88340, 29350],\n",
    "    '2021': [3334000, 680930, 607600, 316000, 305300, 157300, 98260, 43920]\n",
    "}\n",
    "\n",
    "df = pd.DataFrame(EV_data)"
   ]
  },
  {
   "attachments": {},
   "cell_type": "markdown",
   "id": "111c9c5b",
   "metadata": {},
   "source": [
    "STEP 1b: CONDUCTING NORMALIZATION"
   ]
  },
  {
   "cell_type": "code",
   "execution_count": 22,
   "id": "1a043ecd",
   "metadata": {},
   "outputs": [
    {
     "name": "stdout",
     "output_type": "stream",
     "text": [
      "              2017   2018   2019   2020   2021  EV Registrations Index  Annual Growth Rate Index  Charging Infrastructure Index  Government Incentives Index  Marketplace rivalry Index  Public Understanding and Acceptance Index\n",
      "Country                                                                                                                                                                                                                           \n",
      "China       1.0000 1.0000 1.0000 1.0000 1.0000                  2.2500                    1.0000                         0.5000                       0.7500                     0.1000                                     0.4000\n",
      "Germany     0.0853 0.0537 0.0901 0.3167 0.2042                  0.3375                    0.1500                         0.0750                       0.1125                     0.0150                                     0.0600\n",
      "USA         0.3133 0.2877 0.2737 0.2587 0.1822                  0.5920                    0.2631                         0.1316                       0.1973                     0.0263                                     0.1052\n",
      "France      0.0670 0.0428 0.0577 0.1563 0.0948                  0.1883                    0.0837                         0.0419                       0.0628                     0.0084                                     0.0335\n",
      "UK          0.0740 0.0460 0.0605 0.1407 0.0916                  0.1857                    0.0825                         0.0413                       0.0619                     0.0083                                     0.0330\n",
      "Norway      0.1163 0.0678 0.0708 0.0868 0.0472                  0.1750                    0.0778                         0.0389                       0.0583                     0.0078                                     0.0311\n",
      "Netherlands 0.0162 0.0223 0.0561 0.0709 0.0295                  0.0877                    0.0390                         0.0195                       0.0292                     0.0039                                     0.0156\n",
      "Japan       0.0847 0.0396 0.0323 0.0236 0.0132                  0.0870                    0.0387                         0.0193                       0.0290                     0.0039                                     0.0155\n"
     ]
    }
   ],
   "source": [
    "# This first step within the normalization entails us claculating the maximum value for each variable\n",
    "maximum_values = df.loc[:, '2017': '2021'].max()\n",
    "\n",
    "# Next we normalize values  for each variable i.e. the variables we are using to draft our index\n",
    "df.loc[:, '2017':'2021'] = df.loc[:, '2017':'2021'].div(maximum_values, axis=1)\n",
    "\n",
    "# Proceed to calculating the index value for each variable\n",
    "for variable, weighting in weightings.items():\n",
    "    df[f'{variable} Index'] = df.loc[:, '2017':'2021'].mul(weighting, axis=1).sum(axis=1)\n",
    "\n",
    "# We then set the Country column as an index\n",
    "df.set_index('Country', inplace=True)\n",
    "\n",
    "# Print the dataframe in a compact format\n",
    "print(df.to_string(float_format='{:,.4f}'.format))\n"
   ]
  },
  {
   "cell_type": "code",
   "execution_count": null,
   "id": "3692ca62",
   "metadata": {},
   "outputs": [],
   "source": []
  }
 ],
 "metadata": {
  "kernelspec": {
   "display_name": "Python 3 (ipykernel)",
   "language": "python",
   "name": "python3"
  },
  "language_info": {
   "codemirror_mode": {
    "name": "ipython",
    "version": 3
   },
   "file_extension": ".py",
   "mimetype": "text/x-python",
   "name": "python",
   "nbconvert_exporter": "python",
   "pygments_lexer": "ipython3",
   "version": "3.9.12"
  }
 },
 "nbformat": 4,
 "nbformat_minor": 5
}
